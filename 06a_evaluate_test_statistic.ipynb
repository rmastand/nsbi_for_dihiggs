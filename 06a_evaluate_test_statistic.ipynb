{
 "cells": [
  {
   "cell_type": "markdown",
   "metadata": {},
   "source": [
    "# Step 6: Calculate the likelihood ratios given the network outputs"
   ]
  },
  {
   "cell_type": "code",
   "execution_count": 1,
   "metadata": {
    "tags": []
   },
   "outputs": [],
   "source": [
    "import numpy as np\n",
    "import matplotlib\n",
    "from matplotlib import pyplot as plt\n",
    "import os\n",
    "plt.style.use(\"science.mplstyle\")\n",
    "\n",
    "import torch\n",
    "\n",
    "from numba import cuda \n",
    "import pickle\n",
    "\n",
    "from sklearn.preprocessing import StandardScaler\n",
    "from sklearn.utils import shuffle\n",
    "\n",
    "\n",
    "%matplotlib inline\n",
    "\n",
    "\n",
    "from helpers.likelihood_visualizers import make_c_grid, c_scan_1d, c_scan_2d, c_scan_3d, c_scan_3d_with_confusion\n",
    "from helpers.test_statistics import get_test_statistic_rate_at_c_points, get_errorbands, get_N_sig_obs_at_c_point\n",
    "from helpers.bootleg_carl import *\n",
    "from helpers.utils import np_to_torch, crop_feature\n",
    "from helpers.plotting import plot_features"
   ]
  },
  {
   "cell_type": "code",
   "execution_count": 2,
   "metadata": {
    "tags": []
   },
   "outputs": [
    {
     "name": "stdout",
     "output_type": "stream",
     "text": [
      "Using device: cuda\n"
     ]
    }
   ],
   "source": [
    "# computing\n",
    "\n",
    "# set the number of threads that pytorch will use\n",
    "torch.set_num_threads(2)\n",
    "\n",
    "# set gpu device\n",
    "device = torch.device( \"cuda\" if torch.cuda.is_available() else \"cpu\")\n",
    "print( \"Using device: \" + str( device ), flush=True)\n",
    "\n",
    "seed = 5"
   ]
  },
  {
   "cell_type": "code",
   "execution_count": 3,
   "metadata": {
    "tags": []
   },
   "outputs": [],
   "source": [
    "run_id = \"dense_s1_c0_f1\"\n",
    "\n",
    "import yaml\n",
    "with open(\"workflow.yaml\", \"r\") as file:\n",
    "    workflow = yaml.safe_load(file)\n",
    "    \n",
    "with open(f\"run_configs/{run_id}.yml\", \"r\") as file:\n",
    "    run_configs = yaml.safe_load(file)"
   ]
  },
  {
   "cell_type": "markdown",
   "metadata": {},
   "source": [
    "# Data preparation\n"
   ]
  },
  {
   "cell_type": "markdown",
   "metadata": {},
   "source": [
    "Load in data"
   ]
  },
  {
   "cell_type": "code",
   "execution_count": 4,
   "metadata": {
    "tags": []
   },
   "outputs": [],
   "source": [
    "N_train = int(run_configs[\"bkg.N_train\"])\n",
    "samples_dir = workflow[\"sampling\"][\"output_dir\"]\n",
    "identity_code = run_configs[\"input_precode\"]\n",
    "features = run_configs[\"features\"]\n",
    "n_features = len(features)\n",
    "parameter_code = run_configs[\"parameter_code\"]\n",
    "network_id = run_configs[\"network_id\"]\n",
    "\n",
    "\n",
    "# load in the samples\n",
    "samples_SM = np.load(f'{samples_dir}/plain_real/{identity_code}/x_sm.npy')[:,features]\n",
    "samples_alt = np.load(f'{samples_dir}/plain_real/{identity_code}/x_alt_{parameter_code}.npy')[:,features]\n",
    "samples_bkg = np.load(f'{samples_dir}/plain_real/delphes_b0/x_bkg.npy')[:,features]\n",
    "# load in the theta values\n",
    "theta_alt = np.load(f'{samples_dir}/plain_real/{identity_code}/theta_alt_{parameter_code}.npy')\n",
    "theta_alt_sm = np.load(f'{samples_dir}/plain_real/{identity_code}/theta_alt_{parameter_code}.npy')\n",
    "\n",
    "# crop to the number of desired signal events\n",
    "samples_SM = samples_SM[:N_train]\n",
    "samples_alt = samples_alt[:N_train]\n",
    "samples_bkg = samples_bkg[:N_train]\n",
    "theta_alt = theta_alt[:N_train]\n",
    "theta_alt_sm = theta_alt_sm[:N_train]\n"
   ]
  },
  {
   "cell_type": "markdown",
   "metadata": {},
   "source": [
    "Test sets"
   ]
  },
  {
   "cell_type": "code",
   "execution_count": 5,
   "metadata": {
    "tags": []
   },
   "outputs": [
    {
     "name": "stdout",
     "output_type": "stream",
     "text": [
      "['sm', 'alt_c0_m10', 'alt_c0_m6', 'alt_c0_m4', 'alt_c0_p1']\n"
     ]
    }
   ],
   "source": [
    "if parameter_code == \"c0\":\n",
    "    codes = [\"m10\", \"m6\", \"m4\", \"p1\"]\n",
    "    targets = [0, -10, -6, -4, 1]\n",
    "elif (parameter_code == \"c1\") or (parameter_code == \"c2\"):\n",
    "    codes = [ \"m2\", \"p2\",]\n",
    "    targets = [ 0,-2, 2]\n",
    "    #codes = [\"m20\", \"m16\", \"m12\", \"m8\", \"m4\", \"p4\", \"p8\", \"p12\", \"p16\"]\n",
    "    #targets = [0, -20, -16, -12, -8, -4, 4, 8, 12, 16]\n",
    "\n",
    "\n",
    "elif parameter_code == \"c0c1\":\n",
    "    if identity_code == \"delphes_s\":\n",
    "        codes = ['m10p2p0', 'p3m2p0', 'm4p1p0']\n",
    "        targets = [[0,0,0],[-1.0, 0.2, 0.0], [0.3, -0.2, 0.0], [-0.4, 0.1, 0.0]]\n",
    "    elif identity_code == \"lhe_s\":\n",
    "        codes = ['m11m5p0', 'm9m2p0', 'p0m7p0', 'm12m13p0', 'm10m12p0', 'p0p5p0', 'p1m11p0', 'm9p9p0', 'm4p4p0', 'p1p2p0']\n",
    "        targets = [[0,0,0],[-1.1, -0.5, 0.0], [-0.9, -0.2, 0.0], [0.0, -0.7, 0.0], [-1.2, -1.3, 0.0], [-1.0, -1.2, 0.0], [0.0, 0.5, 0.0], [0.1, -1.1, 0.0], [-0.9, 0.9, 0.0], [-0.4, 0.4, 0.0], [0.1, 0.2, 0.0]]\n",
    "\n",
    "        \n",
    "elif parameter_code == \"c0c2\":\n",
    "    if identity_code == \"delphes_s\":\n",
    "        codes = ['m10p0p3', 'p3p0m2', 'm4p0p3']\n",
    "        targets = [[0,0,0], [-1.0, 0.0, 0.3], [0.3, 0.0, -0.2], [-0.4, 0.0, 0.3]]\n",
    "    elif identity_code == \"lhe_s\":\n",
    "        codes = ['m10p0m13', 'm6p0m14', 'm13p0p3', 'm3p0m13', 'm1p0p6', 'p1p0m3', 'p1p0p7', 'm7p0m3', 'p1p0m6']\n",
    "        targets = [[0,0,0],[-1.0, 0.0, -1.3], [-0.6, 0.0, -1.4], [-1.3, 0.0, 0.3], [-0.3, 0.0, -1.3], [-0.1, 0.0, 0.6], [0.1, 0.0, -0.3], [0.1, 0.0, 0.7], [-0.7, 0.0, -0.3], [0.1, 0.0, -0.6]]\n",
    "        \n",
    "        \n",
    "elif parameter_code == \"c1c2\":\n",
    "    if identity_code == \"delphes_s\":\n",
    "        codes = ['p0m2p2', 'p0m3p1', 'p0m1p3']\n",
    "        targets = [[0,0,0],[0.0, -0.2, 0.2], [0.0, -0.3, 0.1], [0.0, -0.1, 0.3]]\n",
    "    elif identity_code == \"lhe_s\":\n",
    "        codes = ['p0m9m4', 'p0p2p1', 'p0m5m2', 'p0m14m1', 'p0p10m3', 'p0p5m7', 'p0p0m11', 'p0m12p9', 'p0m2m9', 'p0p6p6']\n",
    "        targets = [[0,0,0],[0.0, -0.9, -0.4], [0.0, 0.2, 0.1], [0.0, -0.5, -0.2], [0.0, -1.4, -0.1], [0.0, 1.0, -0.3], [0.0, 0.5, -0.7], [0.0, 0.0, -1.1], [0.0, -1.2, 0.9], [0.0, -0.2, -0.9], [0.0, 0.6, 0.6]]\n",
    "\n",
    "\n",
    "test_set_codes = [\"sm\"]\n",
    "\n",
    "for c in codes:\n",
    "    test_set_codes.append(f\"alt_{parameter_code}_{c}\")\n",
    "\n",
    "print(test_set_codes)\n",
    "\n",
    "test_sets = {}\n",
    "\n",
    "for test_code in test_set_codes:\n",
    "    test_sets[test_code] = shuffle(np.load(f'{samples_dir}/plain_real/{identity_code}/x_{test_code}_test.npy')[:,features], random_state = 7)\n",
    "\n",
    "test_sets[\"bkg\"] = shuffle(np.load(f'{samples_dir}/plain_real/delphes_b0/x_bkg_test.npy')[:,features], random_state = 7)"
   ]
  },
  {
   "cell_type": "markdown",
   "metadata": {},
   "source": [
    "Preprocess (Standard Scale)"
   ]
  },
  {
   "cell_type": "code",
   "execution_count": 6,
   "metadata": {
    "tags": []
   },
   "outputs": [
    {
     "name": "stdout",
     "output_type": "stream",
     "text": [
      "['sm', 'alt_c0_m10', 'alt_c0_m6', 'alt_c0_m4', 'alt_c0_p1']\n"
     ]
    }
   ],
   "source": [
    "with open(f\"models/scaler_{network_id}\", \"rb\") as ifile:\n",
    "    scaler = pickle.load(ifile)\n",
    "\n",
    "# transform\n",
    "samples_SM = scaler.transform(samples_SM)\n",
    "samples_alt = scaler.transform(samples_alt)\n",
    "samples_bkg = scaler.transform(samples_bkg)\n",
    "\n",
    "print(test_set_codes)\n",
    "\n",
    "for test_code in test_sets.keys():\n",
    "    test_sets[test_code] = scaler.transform(test_sets[test_code])\n",
    "    \n"
   ]
  },
  {
   "cell_type": "markdown",
   "metadata": {},
   "source": [
    "Plot hists"
   ]
  },
  {
   "cell_type": "code",
   "execution_count": 7,
   "metadata": {
    "tags": []
   },
   "outputs": [
    {
     "data": {
      "image/png": "[encoded data removed]",
      "text/plain": [
       "<Figure size 288x288 with 1 Axes>"
      ]
     },
     "metadata": {
      "needs_background": "light"
     },
     "output_type": "display_data"
    },
    {
     "data": {
      "image/png": "[encoded data removed]",
      "text/plain": [
       "<Figure size 648x216 with 3 Axes>"
      ]
     },
     "metadata": {
      "needs_background": "light"
     },
     "output_type": "display_data"
    }
   ],
   "source": [
    "\n",
    "        \n",
    "nb = 60\n",
    "bins = [np.linspace(-2, 5, nb) for i in range(n_features)]\n",
    "axis_labels = [\"$m_\\mathrm{tot}$\", \"$p_{T_{aa}}$\", \"$p_{T_{bb}}$\", \"$\\Delta R_{aa}$\", \"$\\Delta R_{bb}$\"]\n",
    "\n",
    "plot_features([samples_SM, samples_alt, samples_bkg], \n",
    "#plot_features([samples_alt, samples_SM, samples_bkg], \n",
    "             [\"x ~ SM\", \"x ~ alt\", \"x ~ bkg\"], [\"\" for i in range(n_features)], nb)\n",
    "\n",
    "\n",
    "\n",
    "# plot theta\n",
    "fig, ax = plt.subplots(1, 3, figsize = (3*3, 3))\n",
    "\n",
    "for i in range(3):\n",
    "    ax[i].hist(theta_alt[:,i], bins = nb, density = True, histtype = \"step\", label= \"alt\", linewidth = 2)\n",
    "    ax[i].set_xlabel(f\"$\\\\theta_{i}$\", fontsize = 18)\n",
    "    ax[i].set_yticks([])\n",
    "    \n",
    "ax[0].set_ylabel(\"Density\", fontsize = 18)\n",
    "plt.show()"
   ]
  },
  {
   "cell_type": "markdown",
   "metadata": {},
   "source": [
    "\n",
    "# Evaluation\n"
   ]
  },
  {
   "cell_type": "code",
   "execution_count": 8,
   "metadata": {
    "tags": []
   },
   "outputs": [],
   "source": [
    "# load in the networks\n",
    "\n",
    "seeds = [1, 2, 3, 4, 5]\n",
    "\n",
    "dense_nets_eval_seeds = {s:{\"Ssm_Salt\":NeuralNet(n_inputs = n_features + 3, layers = run_configs[\"network.layers\"]), \n",
    "                   \"B_Salt\":NeuralNet(n_inputs = n_features + 3, layers = run_configs[\"network.layers\"]), \n",
    "                   \"Ssm_B\":NeuralNet(n_inputs = n_features, layers = run_configs[\"network.layers\"],), \n",
    "                  } for s in seeds}\n",
    "\n",
    "\n",
    "for key in dense_nets_eval_seeds[1].keys():\n",
    "    \n",
    "    for s in seeds:\n",
    "        if key ==\"Ssm_B\":\n",
    "            if len(parameter_code) == 2:\n",
    "                checkpoint = torch.load(f\"models/dense_s{s}_c0_f{n_features}_{key}_best_model.pt\")\n",
    "            elif len(parameter_code) == 4:\n",
    "                checkpoint = torch.load(f\"models/dense_s{s}_c0c1_f{n_features}_{key}_best_model.pt\")\n",
    "        else:\n",
    "            checkpoint = torch.load(f\"models/dense_s{s}_{parameter_code}_f{n_features}_{key}_best_model.pt\")\n",
    "        dense_nets_eval_seeds[s][key].load_state_dict(checkpoint[\"model_state_dict\"])\n",
    "        dense_nets_eval_seeds[s][key].eval().to(device)\n",
    "    "
   ]
  },
  {
   "cell_type": "code",
   "execution_count": 9,
   "metadata": {
    "tags": []
   },
   "outputs": [],
   "source": [
    "lower_limits = [-1.4, -0.45, -.6]\n",
    "upper_limits = [.4, 0.55, 0.5]\n",
    "N_sig_SM_target = 3600\n",
    "N_bkg_SM_target = 8160\n",
    "\n"
   ]
  },
  {
   "cell_type": "code",
   "execution_count": 10,
   "metadata": {
    "tags": []
   },
   "outputs": [
    {
     "name": "stdout",
     "output_type": "stream",
     "text": [
      "test code sm at (0, 0, 0) has N_sig 3600.0, sig frac = 0.30612244897959184\n"
     ]
    },
    {
     "data": {
      "image/png": "[encoded data removed]",
      "text/plain": [
       "<Figure size 288x288 with 1 Axes>"
      ]
     },
     "metadata": {
      "needs_background": "light"
     },
     "output_type": "display_data"
    },
    {
     "name": "stdout",
     "output_type": "stream",
     "text": [
      "test code alt_c0_m10 at (-10, 0, 0) has N_sig 2331.7597878922693, sig frac = 0.22224677604448906\n"
     ]
    },
    {
     "data": {
      "image/png": "[encoded data removed]",
      "text/plain": [
       "<Figure size 288x288 with 1 Axes>"
      ]
     },
     "metadata": {
      "needs_background": "light"
     },
     "output_type": "display_data"
    },
    {
     "name": "stdout",
     "output_type": "stream",
     "text": [
      "test code alt_c0_m6 at (-6, 0, 0) has N_sig 1277.1373318749158, sig frac = 0.1353310105556323\n"
     ]
    },
    {
     "data": {
      "image/png": "[encoded data removed]",
      "text/plain": [
       "<Figure size 288x288 with 1 Axes>"
      ]
     },
     "metadata": {
      "needs_background": "light"
     },
     "output_type": "display_data"
    },
    {
     "name": "stdout",
     "output_type": "stream",
     "text": [
      "test code alt_c0_m4 at (-4, 0, 0) has N_sig 1530.7853742964612, sig frac = 0.15796298392457114\n"
     ]
    },
    {
     "data": {
      "image/png": "[encoded data removed]",
      "text/plain": [
       "<Figure size 288x288 with 1 Axes>"
      ]
     },
     "metadata": {
      "needs_background": "light"
     },
     "output_type": "display_data"
    },
    {
     "name": "stdout",
     "output_type": "stream",
     "text": [
      "test code alt_c0_p1 at (1, 0, 0) has N_sig 4442.703352438478, sig frac = 0.352519870395812\n"
     ]
    },
    {
     "data": {
      "image/png": "[encoded data removed]",
      "text/plain": [
       "<Figure size 288x288 with 1 Axes>"
      ]
     },
     "metadata": {
      "needs_background": "light"
     },
     "output_type": "display_data"
    },
    {
     "name": "stdout",
     "output_type": "stream",
     "text": [
      "Done\n"
     ]
    }
   ],
   "source": [
    "# 1D\n",
    "    \n",
    "if len(parameter_code) == 2:\n",
    "    \n",
    "    results_dict_rate_only = {}\n",
    "    results_dict_all = {}\n",
    "    \n",
    "    # make the c_grid\n",
    "    c_grid, c_scans, edges = make_c_grid(101, lower_limits, upper_limits, parameter_code[-1])\n",
    "    \n",
    "    for i, test_code in enumerate(test_set_codes[:]):\n",
    "        \n",
    "        if parameter_code[-1] == \"0\":\n",
    "            loc_c_point = (targets[i],0,0)\n",
    "        elif parameter_code[-1] == \"1\":\n",
    "            loc_c_point = (0,targets[i],0)\n",
    "        elif parameter_code[-1] == \"2\":\n",
    "            loc_c_point = (0,0,targets[i])\n",
    "                    \n",
    "        # get the number of signal events that we would expect that c point to have\n",
    "        loc_N_sig_obs = get_N_sig_obs_at_c_point(workflow[\"sampling\"][\"input_dir\"], identity_code, loc_c_point, N_sig_SM_target)\n",
    "        \n",
    "        # get f_S for the c point\n",
    "        loc_f_S = loc_N_sig_obs / (N_bkg_SM_target + loc_N_sig_obs)\n",
    "        \n",
    "        print(f\"test code {test_code} at {loc_c_point} has N_sig {loc_N_sig_obs}, sig frac = {loc_f_S}\")\n",
    "        \n",
    "        # generate the test set\n",
    "        \n",
    "        loc_test_set_sig = test_sets[test_code][:int(loc_N_sig_obs)]\n",
    "        loc_test_set_bkg = test_sets[\"bkg\"][:int(N_bkg_SM_target)]\n",
    "        if loc_test_set_sig.shape[0] < int(loc_N_sig_obs):\n",
    "            print(\"CAUTION: not enough signal events in test set.\")\n",
    "        if loc_test_set_bkg.shape[0] < N_bkg_SM_target:\n",
    "            print(\"CAUTION: not enough background events in test set.\")\n",
    "        loc_test_set = np.vstack([loc_test_set_sig, loc_test_set_bkg])\n",
    "        \n",
    "        \n",
    "        # evaluate the rate-only test statistic for every point in the c_grid\n",
    "        loc_q_rate, N_sig_c_scan = get_test_statistic_rate_at_c_points(workflow[\"sampling\"][\"input_dir\"], \n",
    "                                                                      identity_code, 10*c_grid, \n",
    "                                                                      N_sig_SM_target, N_bkg_SM_target, N_bkg_SM_target + loc_N_sig_obs)\n",
    "\n",
    "        results_dict_rate_only[test_code] = loc_q_rate\n",
    "        results_dict_rate_only[\"cscans\"] = c_scans\n",
    "        \n",
    "\n",
    "        loc_q_all = c_scan_1d(dense_nets_eval_seeds, device, loc_test_set, N_sig_c_scan, N_sig_SM_target, N_bkg_SM_target, c_grid, c_scans, \n",
    "                               parameter_code[-1], [1, 2, 3, 4, 5], q_rate = loc_q_rate)\n",
    "        results_dict_all[test_code] = loc_q_all\n",
    " \n",
    "    print(\"Done\")\n"
   ]
  },
  {
   "cell_type": "code",
   "execution_count": 11,
   "metadata": {
    "tags": []
   },
   "outputs": [],
   "source": [
    "\n",
    "if len(parameter_code) == 2:\n",
    "    with open(f\"preplot_pickles/results_dict_rate_only_{parameter_code}.pkl\", \"wb\") as f:\n",
    "        pickle.dump(results_dict_rate_only, f)\n",
    "\n",
    "    with open(f\"preplot_pickles/results_dict_all_{parameter_code}_f{n_features}.pkl\", \"wb\") as f:\n",
    "        pickle.dump(results_dict_all, f)\n"
   ]
  },
  {
   "cell_type": "code",
   "execution_count": null,
   "metadata": {
    "tags": []
   },
   "outputs": [],
   "source": []
  },
  {
   "cell_type": "code",
   "execution_count": null,
   "metadata": {
    "tags": []
   },
   "outputs": [],
   "source": [
    "# 2D\n",
    "\n",
    "if len(parameter_code) == 4:\n",
    "    \n",
    "    results_dict_rate_only = {}\n",
    "    results_dict_all = {}\n",
    "\n",
    "    ttargets = []\n",
    "    best_fits = []\n",
    "    \n",
    "    # make the c_grid\n",
    "    c_grid, c_scans, edges = make_c_grid(71, lower_limits, upper_limits, parameter_code[1]+parameter_code[3])\n",
    "    \n",
    "    for i, test_code in enumerate(test_set_codes[:]):\n",
    "          \n",
    "                \n",
    "        # each test set has a different N_obs, since it was generated by a diff value of c\n",
    "        loc_N_sig_obs = get_N_sig_obs_at_c_point(workflow[\"sampling\"][\"input_dir\"], identity_code, [x*10 for x in targets[i]], N_sig_SM_target)\n",
    "        \n",
    "        # get f_S for the c point\n",
    "        loc_f_S = loc_N_sig_obs / (N_bkg_SM_target + loc_N_sig_obs)\n",
    "        \n",
    "        print(f\"test code {test_code} has N_sig {loc_N_sig_obs}, sig frac = {loc_f_S}\", targets[i])\n",
    "        \n",
    "        # generate the test set\n",
    "        loc_test_set_sig = test_sets[test_code][:int(loc_N_sig_obs)]\n",
    "        loc_test_set_bkg = test_sets[\"bkg\"][:int(N_bkg_SM_target)]\n",
    "        if loc_test_set_sig.shape[0] < int(loc_N_sig_obs):\n",
    "            print(\"CAUTION: not enough signal events in test set.\")\n",
    "        if loc_test_set_bkg.shape[0] < N_bkg_SM_target:\n",
    "            print(\"CAUTION: not enough background events in test set.\")\n",
    "        loc_test_set = np.vstack([loc_test_set_sig, loc_test_set_bkg])\n",
    "        \n",
    "\n",
    "        # evaluate the rate-only test statistic for every point in the c_grid\n",
    "        loc_q_rate, N_sig_c_scan = get_test_statistic_rate_at_c_points(workflow[\"sampling\"][\"input_dir\"], \n",
    "                                                                      identity_code, 10*c_grid, \n",
    "                                                                      N_sig_SM_target, N_bkg_SM_target, N_bkg_SM_target + loc_N_sig_obs)\n",
    "\n",
    "        results_dict_rate_only[test_code] = loc_q_rate\n",
    "        results_dict_rate_only[\"cscans\"] = c_scans\n",
    "        results_dict_rate_only[\"cgrid\"] = c_grid\n",
    "        results_dict_rate_only[\"edges\"] = edges\n",
    "\n",
    "    \n",
    "        loc_q_all = c_scan_2d(dense_nets_eval_seeds, device, loc_test_set, N_sig_c_scan, N_sig_SM_target, N_bkg_SM_target, c_grid, c_scans, edges,\n",
    "                                parameter_code[1]+parameter_code[3], [1, 2, 3, 4, 5], q_rate = loc_q_rate, target = targets[i])\n",
    "        \n",
    "        results_dict_all[test_code] = loc_q_all\n",
    "        \n",
    "        \n",
    "    \n",
    "    \n",
    "\n",
    "    print(\"Done\")\n"
   ]
  },
  {
   "cell_type": "code",
   "execution_count": null,
   "metadata": {
    "tags": []
   },
   "outputs": [],
   "source": [
    "if len(parameter_code) == 4:\n",
    "    with open(f\"preplot_pickles/results_dict_rate_only_{parameter_code}.pkl\", \"wb\") as f:\n",
    "        pickle.dump(results_dict_rate_only, f)\n",
    "\n",
    "    with open(f\"preplot_pickles/results_dict_all_{parameter_code}_f{n_features}.pkl\", \"wb\") as f:\n",
    "        pickle.dump(results_dict_all, f)"
   ]
  },
  {
   "cell_type": "code",
   "execution_count": null,
   "metadata": {},
   "outputs": [],
   "source": []
  },
  {
   "cell_type": "code",
   "execution_count": null,
   "metadata": {},
   "outputs": [],
   "source": []
  },
  {
   "cell_type": "code",
   "execution_count": null,
   "metadata": {},
   "outputs": [],
   "source": []
  },
  {
   "cell_type": "code",
   "execution_count": null,
   "metadata": {},
   "outputs": [],
   "source": []
  },
  {
   "cell_type": "code",
   "execution_count": null,
   "metadata": {},
   "outputs": [],
   "source": []
  },
  {
   "cell_type": "code",
   "execution_count": null,
   "metadata": {},
   "outputs": [],
   "source": []
  },
  {
   "cell_type": "code",
   "execution_count": null,
   "metadata": {},
   "outputs": [],
   "source": []
  },
  {
   "cell_type": "code",
   "execution_count": null,
   "metadata": {},
   "outputs": [],
   "source": []
  },
  {
   "cell_type": "code",
   "execution_count": null,
   "metadata": {},
   "outputs": [],
   "source": []
  }
 ],
 "metadata": {
  "kernelspec": {
   "display_name": "Python 3 (ipykernel)",
   "language": "python",
   "name": "python3"
  },
  "language_info": {
   "codemirror_mode": {
    "name": "ipython",
    "version": 3
   },
   "file_extension": ".py",
   "mimetype": "text/x-python",
   "name": "python",
   "nbconvert_exporter": "python",
   "pygments_lexer": "ipython3",
   "version": "3.8.5"
  }
 },
 "nbformat": 4,
 "nbformat_minor": 4
}
