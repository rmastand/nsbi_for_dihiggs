{
 "cells": [
  {
   "cell_type": "markdown",
   "metadata": {},
   "source": [
    "# Step 4: Generate events at arbitrary benchmark points with MadMiner\n",
    "\n",
    "n.b.: this notebook is heavily based on the corresponding `MadMiner` one here: https://github.com/madminer-tool/madminer/blob/main/examples/tutorial_particle_physics/3a_likelihood_ratio.ipynb"
   ]
  },
  {
   "cell_type": "code",
   "execution_count": 1,
   "metadata": {
    "tags": []
   },
   "outputs": [],
   "source": [
    "import logging\n",
    "import numpy as np\n",
    "import matplotlib\n",
    "from matplotlib import pyplot as plt\n",
    "\n",
    "%matplotlib inline\n",
    "\n",
    "from madminer.sampling import SampleAugmenter\n",
    "from madminer import sampling"
   ]
  },
  {
   "cell_type": "code",
   "execution_count": 2,
   "metadata": {
    "tags": []
   },
   "outputs": [],
   "source": [
    "# MadMiner output\n",
    "logging.basicConfig(\n",
    "    format='%(asctime)-5.5s %(name)-20.20s %(levelname)-7.7s %(message)s',\n",
    "    datefmt='%H:%M',\n",
    "    level=logging.INFO\n",
    ")\n",
    "\n",
    "# Output of all other modules (e.g. matplotlib)\n",
    "for key in logging.Logger.manager.loggerDict:\n",
    "    if \"madminer\" not in key:\n",
    "        logging.getLogger(key).setLevel(logging.WARNING)"
   ]
  },
  {
   "cell_type": "code",
   "execution_count": 3,
   "metadata": {
    "tags": []
   },
   "outputs": [],
   "source": [
    "from madminer import SampleAugmenter, sampling\n",
    "\n",
    "import yaml\n",
    "with open(\"workflow.yaml\", \"r\") as file:\n",
    "    workflow = yaml.safe_load(file)"
   ]
  },
  {
   "cell_type": "code",
   "execution_count": 5,
   "metadata": {
    "tags": []
   },
   "outputs": [],
   "source": [
    "data_input_dir = workflow[\"sampling\"][\"input_dir\"]\n",
    "samples_output_dir = workflow[\"sampling\"][\"output_dir\"]"
   ]
  },
  {
   "cell_type": "markdown",
   "metadata": {},
   "source": [
    "## Generate signal samples at arbitrary benchmark points"
   ]
  },
  {
   "cell_type": "code",
   "execution_count": 1,
   "metadata": {
    "tags": []
   },
   "outputs": [],
   "source": [
    "test_split = 0.14"
   ]
  },
  {
   "cell_type": "markdown",
   "metadata": {},
   "source": [
    "You may want to specify exact benchmark points for test sets. Use the variable `parameter_code` to denote which SMEFT Wilson coefficients you're varying. "
   ]
  },
  {
   "cell_type": "code",
   "execution_count": 6,
   "metadata": {
    "tags": []
   },
   "outputs": [
    {
     "name": "stdout",
     "output_type": "stream",
     "text": [
      "['m12', 'm10', 'm8', 'm6', 'm4', 'm2', 'p2', 'p1']\n",
      "[[-1.2, 0.0, 0.0], [-1.0, 0.0, 0.0], [-0.8, 0.0, 0.0], [-0.6, 0.0, 0.0], [-0.4, 0.0, 0.0], [-0.2, 0.0, 0.0], [0.2, 0.0, 0.0], [0.1, 0.0, 0.0]]\n"
     ]
    }
   ],
   "source": [
    "\"\"\"\n",
    "\n",
    "parameter_code = \"c1\"\n",
    "test_set_codes = {\"m20\": (0, -20, 0),\n",
    "                  \"m16\": (-0, -16, 0),\n",
    "                  \"m12\": (-0, -12, 0),\n",
    "                  \"m8\": (-0, -8, 0),\n",
    "                  \"m4\": ( 0, -4, 0),\n",
    "                  \"p4\": ( -0,  4, 0),\n",
    "                  \"p8\": ( -0, 8, 0),\n",
    "                  \"p12\": ( -0, 12, 0),\n",
    "                  \"p16\": ( -0, 16, 0),\n",
    "                 }\n",
    "\"\"\"\n",
    "parameter_code = \"c0\"\n",
    "test_set_codes = {\"m12\": (-12, 0, 0),\n",
    "                  \"m10\": (-10, -0, 0),\n",
    "                  \"m8\": (-8, -0, 0),\n",
    "                  \"m6\": (-6, -0, 0),\n",
    "                  \"m4\": (-4,  0,  0),\n",
    "                  \"m2\": (-2,  -0,  0),\n",
    "                  \"p2\": (2, -0, 0),\n",
    "                  \"p1\": (1, -0, 0),\n",
    "                 }\n",
    "\n",
    "\"\"\"\n",
    "\n",
    "parameter_code = \"c0c1\"\n",
    "test_set_codes = {\"m10p2p0\": (-10, 2, 0),\n",
    "                  \"p3m2p0\": (3, -2, 0),\n",
    "                  \"m4p1p0\": (-4, 1, 0),\n",
    "                 }\n",
    "\n",
    "parameter_code = \"c0c2\"\n",
    "test_set_codes = {\"m10p0p3\": (-10, 0, 3),\n",
    "                  \"p3p0m2\": (3, 0, -2),\n",
    "                  \"m4p0p3\": (-4, 0, 3),\n",
    "                 }\n",
    "\n",
    "parameter_code = \"c1c2\"\n",
    "test_set_codes = {\"p0m2p2\": (0, -2, 2),\n",
    "                  \"p0m3p1\": (0, -3, 1),\n",
    "                  \"p0m1p3\": (0, -1, 3),\n",
    "                 }\n",
    "\"\"\"\n",
    "\n",
    "print(list(test_set_codes.keys()))\n",
    "\n",
    "printed_codes = []\n",
    "for c in test_set_codes.keys():\n",
    "    printed_codes.append([test_set_codes[c][0]/10.0,test_set_codes[c][1]/10.0,test_set_codes[c][2]/10.0])\n",
    "\n",
    "print(printed_codes)\n",
    "\n"
   ]
  },
  {
   "cell_type": "markdown",
   "metadata": {
    "tags": []
   },
   "source": [
    "Note that the line `theta=sampling.random_morphing_points(1000, [(\"flat\", -14, 6), (\"flat\", -4, 5), (\"flat\", -5, 7)]),` will have to be modified if you only want to scan over 1 Wilson coefficient."
   ]
  },
  {
   "cell_type": "code",
   "execution_count": 7,
   "metadata": {
    "tags": []
   },
   "outputs": [
    {
     "name": "stderr",
     "output_type": "stream",
     "text": [
      "10:15 madminer.analysis.da INFO    Loading data from /global/cfs/cdirs/m3246/rmastand/hh_prod/post_delphes_data//delphes_s_shuffled.h5\n",
      "10:15 madminer.utils.inter INFO    HDF5 file does not contain nuisance parameters information\n",
      "10:15 madminer.utils.inter INFO    HDF5 file does not contain finite difference information\n",
      "10:15 madminer.utils.inter INFO    HDF5 file does not contain systematic information\n",
      "10:15 madminer.analysis.da INFO    Found 3 parameters\n",
      "10:15 madminer.analysis.da INFO      0: cp (LHA: DIM6 5, Power: 2, Range: (-16, 8))\n",
      "10:15 madminer.analysis.da INFO      1: cdp (LHA: DIM6 4, Power: 2, Range: (-5, 6))\n",
      "10:15 madminer.analysis.da INFO      2: ctp (LHA: DIM62F 19, Power: 2, Range: (-6, 8))\n",
      "10:15 madminer.analysis.da INFO    Did not find nuisance parameters\n",
      "10:15 madminer.analysis.da INFO    Found 10 benchmarks\n",
      "10:15 madminer.analysis.da INFO    Found 20 observables\n",
      "10:15 madminer.analysis.da INFO    Found 176494 events\n",
      "10:15 madminer.analysis.da INFO      32878 signal events sampled from benchmark sm\n",
      "10:15 madminer.analysis.da INFO      14029 signal events sampled from benchmark morphing_basis_vector_1\n",
      "10:15 madminer.analysis.da INFO      27307 signal events sampled from benchmark morphing_basis_vector_2\n",
      "10:15 madminer.analysis.da INFO      24552 signal events sampled from benchmark morphing_basis_vector_3\n",
      "10:15 madminer.analysis.da INFO      8018 signal events sampled from benchmark morphing_basis_vector_4\n",
      "10:15 madminer.analysis.da INFO      16611 signal events sampled from benchmark morphing_basis_vector_5\n",
      "10:15 madminer.analysis.da INFO      5041 signal events sampled from benchmark morphing_basis_vector_6\n",
      "10:15 madminer.analysis.da INFO      3753 signal events sampled from benchmark morphing_basis_vector_7\n",
      "10:15 madminer.analysis.da INFO      17645 signal events sampled from benchmark morphing_basis_vector_8\n",
      "10:15 madminer.analysis.da INFO      26660 signal events sampled from benchmark morphing_basis_vector_9\n",
      "10:15 madminer.analysis.da INFO    Found morphing setup with 10 components\n",
      "10:15 madminer.analysis.da INFO    Did not find nuisance morphing setup\n",
      "10:15 madminer.sampling.sa INFO    Extracting evaluation sample. Sampling according to [-12   0   0]\n",
      "10:15 madminer.sampling.sa INFO    Starting sampling serially\n",
      "10:15 madminer.sampling.sa INFO    Sampling from parameter point 1 / 1\n",
      "10:15 madminer.sampling.sa INFO    Effective number of samples: mean 472.0247299595185, with individual thetas ranging from 472.02472995951825 to 472.02472995951825\n",
      "10:15 madminer.sampling.sa INFO    Extracting evaluation sample. Sampling according to [-10   0   0]\n",
      "10:15 madminer.sampling.sa INFO    Starting sampling serially\n",
      "10:15 madminer.sampling.sa INFO    Sampling from parameter point 1 / 1\n",
      "10:15 madminer.sampling.sa INFO    Effective number of samples: mean 440.1327846909564, with individual thetas ranging from 440.1327846909565 to 440.1327846909565\n",
      "10:15 madminer.sampling.sa INFO    Extracting evaluation sample. Sampling according to [-8  0  0]\n",
      "10:15 madminer.sampling.sa INFO    Starting sampling serially\n",
      "10:15 madminer.sampling.sa INFO    Sampling from parameter point 1 / 1\n",
      "10:15 madminer.sampling.sa INFO    Effective number of samples: mean 460.6931029380273, with individual thetas ranging from 460.69310293802715 to 460.69310293802715\n",
      "10:15 madminer.sampling.sa INFO    Extracting evaluation sample. Sampling according to [-6  0  0]\n",
      "10:15 madminer.sampling.sa INFO    Starting sampling serially\n",
      "10:15 madminer.sampling.sa INFO    Sampling from parameter point 1 / 1\n",
      "10:15 madminer.sampling.sa INFO    Effective number of samples: mean 213.79007158600223, with individual thetas ranging from 213.7900715860022 to 213.7900715860022\n",
      "10:15 madminer.sampling.sa INFO    Extracting evaluation sample. Sampling according to [-4  0  0]\n",
      "10:15 madminer.sampling.sa INFO    Starting sampling serially\n",
      "10:15 madminer.sampling.sa INFO    Sampling from parameter point 1 / 1\n",
      "10:15 madminer.sampling.sa INFO    Effective number of samples: mean 870.5103302615222, with individual thetas ranging from 870.5103302615217 to 870.5103302615217\n",
      "10:15 madminer.sampling.sa INFO    Extracting evaluation sample. Sampling according to [-2  0  0]\n",
      "10:15 madminer.sampling.sa INFO    Starting sampling serially\n",
      "10:15 madminer.sampling.sa INFO    Sampling from parameter point 1 / 1\n",
      "10:15 madminer.sampling.sa INFO    Effective number of samples: mean 2944.2900927305427, with individual thetas ranging from 2944.290092730542 to 2944.290092730542\n",
      "10:15 madminer.sampling.sa INFO    Extracting evaluation sample. Sampling according to [2 0 0]\n",
      "10:15 madminer.sampling.sa INFO    Starting sampling serially\n",
      "10:15 madminer.sampling.sa INFO    Sampling from parameter point 1 / 1\n",
      "10:15 madminer.sampling.sa INFO    Effective number of samples: mean 1357.1199129641464, with individual thetas ranging from 1357.1199129641464 to 1357.1199129641464\n",
      "10:15 madminer.sampling.sa INFO    Extracting evaluation sample. Sampling according to [1 0 0]\n",
      "10:15 madminer.sampling.sa INFO    Starting sampling serially\n",
      "10:15 madminer.sampling.sa INFO    Sampling from parameter point 1 / 1\n",
      "10:15 madminer.sampling.sa INFO    Effective number of samples: mean 2120.9160788634913, with individual thetas ranging from 2120.9160788634913 to 2120.9160788634913\n"
     ]
    },
    {
     "data": {
      "text/plain": [
       "'\\n# SM test set\\n_ = sampler.sample_test(\\n    theta=sampling.benchmark(\"sm\"),\\n    n_samples=100000,\\n    folder=f\\'{samples_output_dir}/plain_real/delphes_s\\',\\n    filename=f\"sm_test\",\\n    sample_only_from_closest_benchmark=True,\\n    validation_split = 0.0,\\n    test_split = test_split\\n    )\\n\\n'"
      ]
     },
     "execution_count": 7,
     "metadata": {},
     "output_type": "execute_result"
    }
   ],
   "source": [
    "sampler = SampleAugmenter(f'{data_input_dir}/delphes_s_shuffled.h5')\n",
    "\n",
    "\n",
    "# alternative training set\n",
    "x, theta, n_effective = sampler.sample_train_plain(\n",
    "    theta=sampling.random_morphing_points(1000, [(\"flat\", -14, 6), (\"flat\", -4, 5), (\"flat\", -5, 7)]),\n",
    "    n_samples=10000000,\n",
    "    folder=f'{samples_output_dir}/plain_real/delphes_s',\n",
    "    filename=f\"alt_{parameter_code}\",\n",
    "    sample_only_from_closest_benchmark=True,\n",
    "    n_processes=16,\n",
    "    validation_split = 0.0,\n",
    "    test_split = test_split\n",
    "    )\n",
    "\n",
    "# alternative test sets\n",
    "for code in test_set_codes.keys():\n",
    "\n",
    "    _ = sampler.sample_test(\n",
    "        theta=sampling.morphing_point(test_set_codes[code]),\n",
    "        n_samples=10000,\n",
    "        folder=f'{samples_output_dir}/plain_real//delphes_s',\n",
    "        filename=f\"alt_{parameter_code}_{code}_test\",\n",
    "        sample_only_from_closest_benchmark=True,\n",
    "        validation_split = 0.0,\n",
    "        test_split = test_split\n",
    "        )\n",
    "\n",
    "\n",
    "# SM training set\n",
    "x, theta, n_effective = sampler.sample_train_plain(\n",
    "    theta=sampling.benchmark(\"sm\"),\n",
    "    n_samples=10000000,\n",
    "    folder=f'{samples_output_dir}/plain_real/delphes_s',\n",
    "    filename=\"sm\",\n",
    "    sample_only_from_closest_benchmark=True,\n",
    "    n_processes=1,\n",
    "    validation_split = 0.0,\n",
    "    test_split = test_split\n",
    "    )\n",
    "\n",
    "# SM test set\n",
    "_ = sampler.sample_test(\n",
    "    theta=sampling.benchmark(\"sm\"),\n",
    "    n_samples=100000,\n",
    "    folder=f'{samples_output_dir}/plain_real/delphes_s',\n",
    "    filename=f\"sm_test\",\n",
    "    sample_only_from_closest_benchmark=True,\n",
    "    validation_split = 0.0,\n",
    "    test_split = test_split\n",
    "    )\n",
    "\n",
    "\n",
    "\n"
   ]
  },
  {
   "cell_type": "markdown",
   "metadata": {},
   "source": [
    "## Generate background samples"
   ]
  },
  {
   "cell_type": "code",
   "execution_count": null,
   "metadata": {},
   "outputs": [],
   "source": [
    "sampler = SampleAugmenter(f'{data_input_dir}/delphes_b0_shuffled.h5')\n",
    "\n",
    "\n",
    "x, theta, n_effective = sampler.sample_train_plain(\n",
    "    theta=sampling.benchmark(\"sm\"),\n",
    "    n_samples=10000000,\n",
    "    folder=f'{samples_output_dir}/plain_real/delphes_b0',\n",
    "    filename=\"sm\",\n",
    "    sample_only_from_closest_benchmark=True,\n",
    "    n_processes=1,\n",
    "    validation_split = 0.0,\n",
    "    test_split = test_split\n",
    "    )\n",
    "\n",
    "\n",
    "# SM test set\n",
    "_ = sampler.sample_test(\n",
    "    theta=sampling.benchmark(\"sm\"),\n",
    "    n_samples=100000,\n",
    "    folder=f'{samples_output_dir}/plain_real/delphes_b0',\n",
    "    filename=f\"bkg_test\",\n",
    "    sample_only_from_closest_benchmark=True,\n",
    "    validation_split = 0.0,\n",
    "    test_split = test_split\n",
    "    )\n",
    "\n"
   ]
  },
  {
   "cell_type": "code",
   "execution_count": null,
   "metadata": {},
   "outputs": [],
   "source": []
  },
  {
   "cell_type": "code",
   "execution_count": null,
   "metadata": {},
   "outputs": [],
   "source": []
  },
  {
   "cell_type": "code",
   "execution_count": null,
   "metadata": {},
   "outputs": [],
   "source": []
  }
 ],
 "metadata": {
  "kernelspec": {
   "display_name": "Python 3 (ipykernel)",
   "language": "python",
   "name": "python3"
  },
  "language_info": {
   "codemirror_mode": {
    "name": "ipython",
    "version": 3
   },
   "file_extension": ".py",
   "mimetype": "text/x-python",
   "name": "python",
   "nbconvert_exporter": "python",
   "pygments_lexer": "ipython3",
   "version": "3.8.5"
  }
 },
 "nbformat": 4,
 "nbformat_minor": 4
}
